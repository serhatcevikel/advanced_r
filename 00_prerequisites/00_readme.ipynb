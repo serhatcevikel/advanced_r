{
 "cells": [
  {
   "cell_type": "markdown",
   "metadata": {
    "kernel": "SoS"
   },
   "source": [
    "Welcome to Advanced R course's Binder repo\n",
    "\n",
    "This initial noteobok gives some preliminary information on the technical prerequisites and the available toolset"
   ]
  },
  {
   "cell_type": "markdown",
   "metadata": {
    "kernel": "SoS"
   },
   "source": [
    "# Technical Prerequisites"
   ]
  },
  {
   "cell_type": "markdown",
   "metadata": {
    "kernel": "SoS"
   },
   "source": [
    "The main programming language we utilize throughout the course is R.\n",
    "\n",
    "R derives most of its power from the plethora of extension packages actively developed by a waste community of volunteer coders.\n",
    "\n",
    "You may browse the packages following the link at CRAN:\n",
    "\n",
    "https://cran.r-project.org/web/packages/available_packages_by_name.html"
   ]
  },
  {
   "cell_type": "markdown",
   "metadata": {
    "kernel": "SoS"
   },
   "source": [
    "However, it is better that we browse the packages in an R'ish way. Please run all the code cells (with a [] sign to the left) using the play button or Shift+Enter key combination followed by Esc key when the cell is actively selected:"
   ]
  },
  {
   "cell_type": "markdown",
   "metadata": {
    "kernel": "SoS"
   },
   "source": [
    "First we load some necessary packages:"
   ]
  },
  {
   "cell_type": "code",
   "execution_count": null,
   "metadata": {
    "kernel": "R"
   },
   "outputs": [],
   "source": [
    "library(data.table)\n",
    "library(tidyverse)\n",
    "library(DT)\n",
    "library(plotly)"
   ]
  },
  {
   "cell_type": "markdown",
   "metadata": {
    "kernel": "R"
   },
   "source": [
    "And get info on all CRAN packages:"
   ]
  },
  {
   "cell_type": "code",
   "execution_count": null,
   "metadata": {
    "kernel": "R"
   },
   "outputs": [],
   "source": [
    "packages <- tools:::CRAN_package_db()"
   ]
  },
  {
   "cell_type": "markdown",
   "metadata": {
    "kernel": "R"
   },
   "source": [
    "We see how many packages are available at CRAN at the moment:"
   ]
  },
  {
   "cell_type": "code",
   "execution_count": null,
   "metadata": {
    "kernel": "R"
   },
   "outputs": [],
   "source": [
    "data.table::setDT(packages)\n",
    "packages[, .N]"
   ]
  },
  {
   "cell_type": "markdown",
   "metadata": {
    "kernel": "R"
   },
   "source": [
    "There are too many columns. Select appropriate ones:"
   ]
  },
  {
   "cell_type": "code",
   "execution_count": null,
   "metadata": {
    "kernel": "R"
   },
   "outputs": [],
   "source": [
    "packages2 <- packages %>% select(c(\"Package\", \"Date\", \"Description\"))"
   ]
  },
  {
   "cell_type": "markdown",
   "metadata": {
    "kernel": "R"
   },
   "source": [
    "And we can navigate through this package data with a nice and interactive widget:\n",
    "(You may need the run the cell twice, if the first try did not yield any output)"
   ]
  },
  {
   "cell_type": "code",
   "execution_count": null,
   "metadata": {
    "kernel": "R"
   },
   "outputs": [],
   "source": [
    "DT::datatable(packages2, filter = \"top\")"
   ]
  },
  {
   "cell_type": "markdown",
   "metadata": {
    "kernel": "R"
   },
   "source": [
    "You can sort, paginate or search the data with this widget"
   ]
  },
  {
   "cell_type": "markdown",
   "metadata": {
    "kernel": "R"
   },
   "source": [
    "You may have realized the \".N\" code somewhere above which easily returned the number of rows or the \"%>%\" operator which select few columns from the dataset again easily"
   ]
  },
  {
   "cell_type": "markdown",
   "metadata": {
    "kernel": "R"
   },
   "source": [
    "Most important packages that we will use throughout the course are data.table (that provides .N shortcut) and tidyverse (that provides %>% operator for pipes along with many other useful tools).\n",
    "\n",
    "Below are **MUST READ AND WATCH** tools that you should cover before the subsequent sessions:"
   ]
  },
  {
   "cell_type": "markdown",
   "metadata": {
    "kernel": "R"
   },
   "source": [
    "## Base R refresher"
   ]
  },
  {
   "cell_type": "markdown",
   "metadata": {
    "kernel": "R"
   },
   "source": [
    "- Introduction to R (Free DataCamp course):\n",
    "https://www.datacamp.com/courses/free-introduction-to-r\n",
    "\n",
    "- “R Programming” swirl course:\n",
    "https://github.com/swirldev/swirl_courses\n",
    "\n",
    "You may install swirl locally to your PC but an easier way is to run this Binder repo in rstudio mode in two ways:\n",
    "\n",
    "    - Open a new session following any of the links:\n",
    "http://notebooks.gesis.org/binder/v2/gh/serhatcevikel/advanced_r/master?urlpath=rstudio\n",
    "\n",
    "http://mybinder.org/v2/gh/serhatcevikel/advanced_r/master?urlpath=rstudio\n",
    "    \n",
    "    - Copy the link url of the active session to a new browser tab change the /tree or /lab part to /rstudio\n",
    "\n",
    "Then you can run the following code to start the beginner swirl course:\n",
    "\n",
    "```R\n",
    "library(swirl)\n",
    "swirl()\n",
    "``` "
   ]
  },
  {
   "cell_type": "markdown",
   "metadata": {
    "kernel": "R"
   },
   "source": [
    "## \"data.table\" Prerequisites"
   ]
  },
  {
   "cell_type": "markdown",
   "metadata": {
    "kernel": "R"
   },
   "source": [
    "### Must read and watch material"
   ]
  },
  {
   "cell_type": "markdown",
   "metadata": {
    "kernel": "R"
   },
   "source": [
    "- A data.table R Tutorial: Intro to DT[i, j, by] (must read)\n",
    "\n",
    "By Karljin Willems\n",
    "\n",
    "https://www.datacamp.com/community/tutorials/data-table-r-tutorial\n",
    "\n",
    "- Introduction to data.table (must read)\n",
    "\n",
    "By data.table team\n",
    "\n",
    "https://cran.r-project.org/web/packages/data.table/vignettes/datatable-intro.html\n",
    "\n",
    "- Reference Semantics (must read)\n",
    "\n",
    "By data.table team\n",
    "\n",
    "https://cran.r-project.org/web/packages/data.table/vignettes/datatable-reference-semantics.html\n",
    "\n",
    "- Efficient reshaping using data.tables (must read)\n",
    "\n",
    "By data.table team\n",
    "\n",
    "https://cran.r-project.org/web/packages/data.table/vignettes/datatable-reshape.html\n",
    "\n",
    "- JOINing data in R using data.table (must read)\n",
    "\n",
    "By Ronald Stalder\n",
    "\n",
    "http://rpubs.com/ronasta/join_data_tables\n",
    "\n",
    "- useR! International R User 2017 Conference data table for beginners I\n",
    "\n",
    "by Arun Srinivasan\n",
    "\n",
    "https://channel9.msdn.com/Events/useR-international-R-User-conferences/useR-International-R-User-2017-Conference/datatable-for-beginners (must watch and exercise)\n",
    "\n",
    "You can download the exercise material for this tutorial from here:\n",
    "\n",
    "https://goo.gl/FqqCWz\n",
    "\n",
    "Or view from here:\n",
    "\n",
    "https://github.com/arunsrinivasan/user2017-data.table-tutorial\n"
   ]
  },
  {
   "cell_type": "markdown",
   "metadata": {
    "kernel": "R"
   },
   "source": [
    "### Optional material"
   ]
  },
  {
   "cell_type": "markdown",
   "metadata": {
    "kernel": "R"
   },
   "source": [
    "- useR! International R User 2017 Conference data table for beginners II\n",
    "\n",
    "by Arun Srinivasan\n",
    "\n",
    "https://channel9.msdn.com/Events/useR-international-R-User-conferences/useR-International-R-User-2017-Conference/datatable-for-beginners-II (optional)\n",
    "\n",
    "You can download the exercise material for this tutorial from here:\n",
    "\n",
    "https://goo.gl/FqqCWz\n",
    "\n",
    "Or view from here:\n",
    "\n",
    "https://github.com/arunsrinivasan/user2017-data.table-tutorial\n",
    "\n",
    "\n",
    "- Keys and fast binary search based subset (optional)\n",
    "\n",
    "By data.table team\n",
    "\n",
    "https://cran.r-project.org/web/packages/data.table/vignettes/datatable-keys-fast-subset.html\n",
    "\n",
    "- Quick R Tutorial: Chapter 3 Tables (optional)\n",
    "\n",
    "By Frank Erickson\n",
    "\n",
    "https://franknarf1.github.io/r-tutorial/_book/tables.html#tables\n",
    "\n",
    "- Secondary indexing and auto indexing (optional)\n",
    "\n",
    "By data.table team\n",
    "\n",
    "https://cran.r-project.org/web/packages/data.table/vignettes/datatable-secondary-indices-and-auto-indexing.html\n",
    "\n",
    "- Talk by Matt Dowle, Main Author of the data.table package in R (optional)\n",
    "\n",
    "https://www.youtube.com/watch?v=GHrebwrqZ-c\n",
    "\n",
    "- Matt Dowle's \"data.table\" talk at useR 2014 (optional)\n",
    "\n",
    "https://www.youtube.com/watch?v=qLrdYhizEMg\n",
    "\n",
    "- Frequently asked questions (optional)\n",
    "\n",
    "By data.table team\n",
    "\n",
    "https://cran.r-project.org/web/packages/data.table/vignettes/datatable-faq.html\n",
    "\n",
    "- Advanced tips and tricks with data.table (optional)\n",
    "\n",
    "By Andrew Brooks\n",
    "\n",
    "http://brooksandrew.github.io/simpleblog/articles/advanced-data-table/"
   ]
  },
  {
   "cell_type": "markdown",
   "metadata": {
    "kernel": "R"
   },
   "source": [
    "## \"tidyverse\" Prerequisites"
   ]
  },
  {
   "cell_type": "markdown",
   "metadata": {
    "kernel": "R"
   },
   "source": [
    "### Must read and watch material"
   ]
  },
  {
   "cell_type": "markdown",
   "metadata": {
    "kernel": "R"
   },
   "source": [
    "- Introduction to dplyr (must read)\n",
    "\n",
    "by Hadley Wickham\n",
    "\n",
    "https://cran.r-project.org/web/packages/dplyr/vignettes/dplyr.html\n",
    "\n",
    "- Data wrangling in R (must read)\n",
    "\n",
    "by Julie Lowndes\n",
    "\n",
    "http://jules32.github.io/2016-07-12-Oxford/dplyr_tidyr/\n",
    "\n",
    "- Pipelines for Data Analysis (must watch)\n",
    "\n",
    "by Hadley Wickham\n",
    "\n",
    "https://www.youtube.com/watch?v=40tyOFMZUSM\n",
    "\n",
    "- A Beginner’s Guide to Tidyverse – The Most Powerful Collection of R Packages for Data Science (must read)\n",
    "\n",
    "by Akshat Arora\n",
    "\n",
    "https://www.analyticsvidhya.com/blog/2019/05/beginner-guide-tidyverse-most-powerful-collection-r-packages-data-science/"
   ]
  },
  {
   "cell_type": "markdown",
   "metadata": {
    "kernel": "R"
   },
   "source": [
    "### Optional material"
   ]
  },
  {
   "cell_type": "markdown",
   "metadata": {
    "kernel": "R"
   },
   "source": [
    "- Data Wrangling R | RStudio Webinar - 2016 (optional)\n",
    "\n",
    "by Garrett Grolemund\n",
    "\n",
    "https://www.rstudio.com/resources/webinars/data-wrangling-with-r-and-rstudio/\n",
    "\n",
    "or\n",
    "\n",
    "https://www.youtube.com/watch?v=y9KJmUGc8SE\n",
    "\n",
    "Download slides from:\n",
    "\n",
    "https://github.com/rstudio/webinars/tree/master/05-Data-Wrangling-with-R-and-RStudio\n",
    "\n",
    "- R for Data Science (optional)\n",
    "\n",
    "by Garrett Grolemund and Hadley Wickham\n",
    "\n",
    "http://r4ds.had.co.nz/"
   ]
  },
  {
   "cell_type": "markdown",
   "metadata": {
    "kernel": "R"
   },
   "source": [
    "## data.table + tidyverse must read"
   ]
  },
  {
   "cell_type": "markdown",
   "metadata": {
    "kernel": "R"
   },
   "source": [
    "- data.table vs dplyr: can one do something well the other can't or does poorly? (very must read)\n",
    "\n",
    "Answers by Arun Srinivasan and Hadley Wickham\n",
    "\n",
    "https://stackoverflow.com/questions/21435339/data-table-vs-dplyr-can-one-do-something-well-the-other-cant-or-does-poorly\n",
    "\n",
    "(This is a must read after you have a basic understanding of dplyr and data.table packages)\n"
   ]
  },
  {
   "cell_type": "markdown",
   "metadata": {
    "kernel": "R"
   },
   "source": [
    "# Guided Tour of the Advanced R Toolset"
   ]
  },
  {
   "cell_type": "markdown",
   "metadata": {
    "kernel": "R"
   },
   "source": [
    "This interface you are accessing is a binder repo.\n",
    "\n",
    "Binder can create reproducible, executable and interactive environments for coding, analytics and documentation.\n",
    "\n",
    "You can find more information following this link:\n",
    "\n",
    "https://mybinder.readthedocs.io/en/latest/"
   ]
  },
  {
   "cell_type": "markdown",
   "metadata": {
    "kernel": "R"
   },
   "source": [
    "There are two alternative links to open an instance/session of this binder repo:\n",
    "\n",
    "http://notebooks.gesis.org/binder/v2/gh/serhatcevikel/advanced_r/master\n",
    "\n",
    "http://mybinder.org/v2/gh/serhatcevikel/advanced_r/master\n",
    "\n",
    "But gesis (Leibniz Institute) and Mybinder are members of the BinderHub Federation.\n",
    "\n",
    "What you get is identical in terms of the material and tools. However the extent of available system resources may differ. Let's check:"
   ]
  },
  {
   "cell_type": "markdown",
   "metadata": {
    "kernel": "Bash"
   },
   "source": [
    "## Three interfaces to the same repo: Jupyter, Jupyter Lab and Rstudio"
   ]
  },
  {
   "cell_type": "markdown",
   "metadata": {
    "kernel": "Bash"
   },
   "source": [
    "In Jupyter, interactive and editable documents called notebooks can be created, opened or edited.\n",
    "\n",
    "In notebooks there are two types of cells:\n",
    "\n",
    "- markdown cells: Using markdown - a small subset of HTML - you can easily create professional looking narratives and document segments\n",
    "\n",
    "- code cells: Starts with []. Can be run and the output will be displayed below"
   ]
  },
  {
   "cell_type": "markdown",
   "metadata": {
    "kernel": "Bash"
   },
   "source": [
    "Here you can get come introductory information on how to use Jupyter notebooks:\n",
    "\n",
    "[![The Data Incubator - Keyboard Shortcuts in Jupyter](https://img.youtube.com/vi/cuHY1o3Cf2s/0.jpg)](https://www.youtube.com/watch?v=cuHY1o3Cf2s&index=4&list=PLjDTd-bDo6Q3nnt7y_GjMaYD79-stYZ-O&t=0s)"
   ]
  },
  {
   "cell_type": "markdown",
   "metadata": {
    "kernel": "Bash"
   },
   "source": [
    "### Kernels"
   ]
  },
  {
   "cell_type": "markdown",
   "metadata": {
    "kernel": "Bash"
   },
   "source": [
    "The code cells are interpreted using small connector programs called kernels that act as bridges between Jupyter and respective programming languages\n",
    "\n",
    "Four kernels are readily available in this binder repo:\n",
    "\n",
    "- Python3\n",
    "- R\n",
    "- Bash\n",
    "- SoS"
   ]
  },
  {
   "cell_type": "markdown",
   "metadata": {
    "kernel": "Bash"
   },
   "source": [
    "### Jupyter Lab"
   ]
  },
  {
   "cell_type": "markdown",
   "metadata": {
    "kernel": "Bash"
   },
   "source": [
    "A better option to access the Jupyter system's features in a single multi-framed page is Jupyter Lab.\n",
    "\n",
    "While Jupyter is powered by Python, Jupyter Lab has components enhanced by the interactive and visual features of JavaScript. My personal choice nowadays is Jupyter Lab.\n",
    "\n",
    "To initiate a session of this repo using Jupyter Lab you can follow the links:\n",
    "\n",
    "http://notebooks.gesis.org/binder/v2/gh/serhatcevikel/advanced_r/master?urlpath=lab\n",
    "\n",
    "http://mybinder.org/v2/gh/serhatcevikel/advanced_r/master?urlpath=lab"
   ]
  },
  {
   "cell_type": "markdown",
   "metadata": {
    "kernel": "Bash"
   },
   "source": [
    "If you started a binder session in Jupyter or Rstudio mode and you want to switch to Jupyter Lab in the same session:\n",
    "\n",
    "Just change the /tree or /rstudio part of the url of the session to /lab. You may copy the url to another tab and make the change there"
   ]
  },
  {
   "cell_type": "markdown",
   "metadata": {
    "kernel": "Bash"
   },
   "source": [
    "For a short introduction to Jupyter Lab:\n",
    "\n",
    "https://www.youtube.com/watch?v=7wfPqAyYADY"
   ]
  },
  {
   "cell_type": "markdown",
   "metadata": {
    "kernel": "Bash"
   },
   "source": [
    "### Rstudio"
   ]
  },
  {
   "cell_type": "markdown",
   "metadata": {
    "kernel": "Bash"
   },
   "source": [
    "Rstudio is a common IDE (integrated development environment) for R is Rstudio.\n",
    "\n",
    "You are strongly recommended to instal Rstudio to your local PC, however you can use Rstudio in a new session through this repo following the link:\n",
    "\n",
    "http://notebooks.gesis.org/binder/v2/gh/serhatcevikel/advanced_r/master?urlpath=rstudio\n",
    "\n",
    "http://mybinder.org/v2/gh/serhatcevikel/advanced_r/master?urlpath=rstudio"
   ]
  },
  {
   "cell_type": "markdown",
   "metadata": {
    "kernel": "Bash"
   },
   "source": [
    "If you started a binder session in Jupyter or Jupyter Lab mode and you want to switch to Rstudio in the same session:\n",
    "\n",
    "Just change the /tree or /lab part of the url of the session to /rstudio. You may copy the url to another tab and make the change there"
   ]
  },
  {
   "cell_type": "markdown",
   "metadata": {
    "kernel": "Bash"
   },
   "source": [
    "And of course, to switch to Jupyter interface from the other two, wtihout starting a new session:\n",
    "\n",
    "Just change the /lab or /rstudio part of the url of the session to /tree. You may copy the url to another tab and make the change there"
   ]
  },
  {
   "cell_type": "markdown",
   "metadata": {
    "kernel": "Bash"
   },
   "source": [
    "For some introductory info on Rstudio please watch:\n",
    "\n",
    "https://www.youtube.com/watch?v=lVKMsaWju8w"
   ]
  },
  {
   "cell_type": "markdown",
   "metadata": {
    "kernel": "Bash"
   },
   "source": [
    "## R packages"
   ]
  },
  {
   "cell_type": "markdown",
   "metadata": {
    "kernel": "Bash"
   },
   "source": [
    "200+ packages are explicitly installed in this binder repo. However including the dependencies of those packages, a large subset of CRAN packages is readily available in R.\n",
    "\n",
    "Let's check it:"
   ]
  },
  {
   "cell_type": "markdown",
   "metadata": {
    "kernel": "R"
   },
   "source": [
    "First get information on installed packages"
   ]
  },
  {
   "cell_type": "code",
   "execution_count": null,
   "metadata": {
    "kernel": "R"
   },
   "outputs": [],
   "source": [
    "packages_i <- installed.packages()"
   ]
  },
  {
   "cell_type": "markdown",
   "metadata": {
    "kernel": "R"
   },
   "source": [
    "And get a glimpse:"
   ]
  },
  {
   "cell_type": "code",
   "execution_count": null,
   "metadata": {
    "kernel": "R"
   },
   "outputs": [],
   "source": [
    "packages_i %>% str"
   ]
  },
  {
   "cell_type": "markdown",
   "metadata": {
    "kernel": "R"
   },
   "source": [
    "That many packages are installed:"
   ]
  },
  {
   "cell_type": "code",
   "execution_count": null,
   "metadata": {
    "kernel": "R"
   },
   "outputs": [],
   "source": [
    "nrow(packages_i)"
   ]
  },
  {
   "cell_type": "markdown",
   "metadata": {
    "kernel": "SoS"
   },
   "source": [
    "Now using the previous object on package information, let's subset the information for installed ones, make some transformations:"
   ]
  },
  {
   "cell_type": "code",
   "execution_count": null,
   "metadata": {
    "kernel": "R"
   },
   "outputs": [],
   "source": [
    "package_names <- packages_i[,\"Package\"]\n",
    "\n",
    "package_names %>% str"
   ]
  },
  {
   "cell_type": "code",
   "execution_count": null,
   "metadata": {
    "kernel": "R"
   },
   "outputs": [],
   "source": [
    "packages2 %>% str"
   ]
  },
  {
   "cell_type": "code",
   "execution_count": null,
   "metadata": {
    "kernel": "R"
   },
   "outputs": [],
   "source": [
    "packages3 <- packages2[Package %in% package_names]\n",
    "packages3[, Date := as.Date(Date)]\n",
    "\n",
    "packages3 %>% str"
   ]
  },
  {
   "cell_type": "code",
   "execution_count": null,
   "metadata": {
    "kernel": "R"
   },
   "outputs": [],
   "source": [
    "datatable(packages3)"
   ]
  },
  {
   "cell_type": "markdown",
   "metadata": {
    "kernel": "R"
   },
   "source": [
    "Let's visualize the frequency of the years that the packages were last updated:"
   ]
  },
  {
   "cell_type": "code",
   "execution_count": null,
   "metadata": {
    "kernel": "R"
   },
   "outputs": [],
   "source": [
    "package_dates <- packages3 %>%\n",
    "mutate(year = year(Date) %>% as.integer) %>%\n",
    "ggplot(aes(year)) +\n",
    "geom_histogram(binwidth = 1)\n",
    "\n",
    "package_dates %>% ggplotly()"
   ]
  },
  {
   "cell_type": "markdown",
   "metadata": {
    "kernel": "SoS"
   },
   "source": [
    "We see that a great deal of the installed packages were installed in the last two years"
   ]
  },
  {
   "cell_type": "markdown",
   "metadata": {
    "kernel": "R"
   },
   "source": [
    "And the median number of days since the last updates of packages is:"
   ]
  },
  {
   "cell_type": "code",
   "execution_count": null,
   "metadata": {
    "kernel": "R"
   },
   "outputs": [],
   "source": [
    "Sys.Date() - packages3[, Date %>% median(na.rm = T)]"
   ]
  },
  {
   "cell_type": "markdown",
   "metadata": {
    "kernel": "R"
   },
   "source": [
    "See that the whole ecosystem is actively maintained and kept up to date with voluntary community effort"
   ]
  },
  {
   "cell_type": "markdown",
   "metadata": {
    "kernel": "R"
   },
   "source": [
    "The spectrum of the installed packages can:\n",
    "\n",
    "- Wrangle and transform data\n",
    "- (Interactively) visualize or tabulate data\n",
    "- Model data with various prediction and classification algorithms\n",
    "- Read, extract or import data from sqlite3, ods, xls(x), csv, tsv, pdf, json, xml, html files\n",
    "\n",
    "...\n",
    "\n",
    "and many more"
   ]
  }
 ],
 "metadata": {
  "kernelspec": {
   "display_name": "R",
   "language": "R",
   "name": "ir"
  },
  "language_info": {
   "codemirror_mode": "r",
   "file_extension": ".r",
   "mimetype": "text/x-r-source",
   "name": "R",
   "pygments_lexer": "r",
   "version": "4.1.1"
  },
  "sos": {
   "kernels": [
    [
     "Bash",
     "bash",
     "bash",
     "",
     "shell"
    ],
    [
     "R",
     "ir",
     "R",
     "",
     "r"
    ],
    [
     "SoS",
     "sos",
     "",
     "",
     "sos"
    ]
   ],
   "version": "0.22.6"
  },
  "widgets": {
   "application/vnd.jupyter.widget-state+json": {
    "state": {},
    "version_major": 2,
    "version_minor": 0
   }
  }
 },
 "nbformat": 4,
 "nbformat_minor": 4
}
